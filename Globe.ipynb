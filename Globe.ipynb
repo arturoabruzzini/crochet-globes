{
 "nbformat": 4,
 "nbformat_minor": 2,
 "metadata": {
  "language_info": {
   "name": "python",
   "codemirror_mode": {
    "name": "ipython",
    "version": 3
   },
   "version": "3.7.4-final"
  },
  "orig_nbformat": 2,
  "file_extension": ".py",
  "mimetype": "text/x-python",
  "name": "python",
  "npconvert_exporter": "python",
  "pygments_lexer": "ipython3",
  "version": 3,
  "kernelspec": {
   "name": "python37464bitc8d9caf95aee4bf6a19f1bd117821a82",
   "display_name": "Python 3.7.4 64-bit"
  }
 },
 "cells": [
  {
   "cell_type": "code",
   "execution_count": 191,
   "metadata": {},
   "outputs": [],
   "source": [
    "import math\n",
    "import matplotlib.pyplot as plt"
   ]
  },
  {
   "cell_type": "code",
   "execution_count": 204,
   "metadata": {},
   "outputs": [
    {
     "output_type": "display_data",
     "data": {
      "text/plain": "<Figure size 432x288 with 1 Axes>",
      "image/svg+xml": "<?xml version=\"1.0\" encoding=\"utf-8\" standalone=\"no\"?>\n<!DOCTYPE svg PUBLIC \"-//W3C//DTD SVG 1.1//EN\"\n  \"http://www.w3.org/Graphics/SVG/1.1/DTD/svg11.dtd\">\n<!-- Created with matplotlib (https://matplotlib.org/) -->\n<svg height=\"252.018125pt\" version=\"1.1\" viewBox=\"0 0 381.965625 252.018125\" width=\"381.965625pt\" xmlns=\"http://www.w3.org/2000/svg\" xmlns:xlink=\"http://www.w3.org/1999/xlink\">\n <defs>\n  <style type=\"text/css\">\n*{stroke-linecap:butt;stroke-linejoin:round;}\n  </style>\n </defs>\n <g id=\"figure_1\">\n  <g id=\"patch_1\">\n   <path d=\"M 0 252.018125 \nL 381.965625 252.018125 \nL 381.965625 0 \nL 0 0 \nz\n\" style=\"fill:none;\"/>\n  </g>\n  <g id=\"axes_1\">\n   <g id=\"patch_2\">\n    <path d=\"M 36.465625 228.14 \nL 371.265625 228.14 \nL 371.265625 10.7 \nL 36.465625 10.7 \nz\n\" style=\"fill:#ffffff;\"/>\n   </g>\n   <g id=\"matplotlib.axis_1\">\n    <g id=\"xtick_1\">\n     <g id=\"line2d_1\">\n      <defs>\n       <path d=\"M 0 0 \nL 0 3.5 \n\" id=\"m4b3ffa92d5\" style=\"stroke:#000000;stroke-width:0.8;\"/>\n      </defs>\n      <g>\n       <use style=\"stroke:#000000;stroke-width:0.8;\" x=\"79.353228\" xlink:href=\"#m4b3ffa92d5\" y=\"228.14\"/>\n      </g>\n     </g>\n     <g id=\"text_1\">\n      <!-- 2 -->\n      <defs>\n       <path d=\"M 19.1875 8.296875 \nL 53.609375 8.296875 \nL 53.609375 0 \nL 7.328125 0 \nL 7.328125 8.296875 \nQ 12.9375 14.109375 22.625 23.890625 \nQ 32.328125 33.6875 34.8125 36.53125 \nQ 39.546875 41.84375 41.421875 45.53125 \nQ 43.3125 49.21875 43.3125 52.78125 \nQ 43.3125 58.59375 39.234375 62.25 \nQ 35.15625 65.921875 28.609375 65.921875 \nQ 23.96875 65.921875 18.8125 64.3125 \nQ 13.671875 62.703125 7.8125 59.421875 \nL 7.8125 69.390625 \nQ 13.765625 71.78125 18.9375 73 \nQ 24.125 74.21875 28.421875 74.21875 \nQ 39.75 74.21875 46.484375 68.546875 \nQ 53.21875 62.890625 53.21875 53.421875 \nQ 53.21875 48.921875 51.53125 44.890625 \nQ 49.859375 40.875 45.40625 35.40625 \nQ 44.1875 33.984375 37.640625 27.21875 \nQ 31.109375 20.453125 19.1875 8.296875 \nz\n\" id=\"DejaVuSans-50\"/>\n      </defs>\n      <g transform=\"translate(76.171978 242.738437)scale(0.1 -0.1)\">\n       <use xlink:href=\"#DejaVuSans-50\"/>\n      </g>\n     </g>\n    </g>\n    <g id=\"xtick_2\">\n     <g id=\"line2d_2\">\n      <g>\n       <use style=\"stroke:#000000;stroke-width:0.8;\" x=\"134.692071\" xlink:href=\"#m4b3ffa92d5\" y=\"228.14\"/>\n      </g>\n     </g>\n     <g id=\"text_2\">\n      <!-- 4 -->\n      <defs>\n       <path d=\"M 37.796875 64.3125 \nL 12.890625 25.390625 \nL 37.796875 25.390625 \nz\nM 35.203125 72.90625 \nL 47.609375 72.90625 \nL 47.609375 25.390625 \nL 58.015625 25.390625 \nL 58.015625 17.1875 \nL 47.609375 17.1875 \nL 47.609375 0 \nL 37.796875 0 \nL 37.796875 17.1875 \nL 4.890625 17.1875 \nL 4.890625 26.703125 \nz\n\" id=\"DejaVuSans-52\"/>\n      </defs>\n      <g transform=\"translate(131.510821 242.738437)scale(0.1 -0.1)\">\n       <use xlink:href=\"#DejaVuSans-52\"/>\n      </g>\n     </g>\n    </g>\n    <g id=\"xtick_3\">\n     <g id=\"line2d_3\">\n      <g>\n       <use style=\"stroke:#000000;stroke-width:0.8;\" x=\"190.030914\" xlink:href=\"#m4b3ffa92d5\" y=\"228.14\"/>\n      </g>\n     </g>\n     <g id=\"text_3\">\n      <!-- 6 -->\n      <defs>\n       <path d=\"M 33.015625 40.375 \nQ 26.375 40.375 22.484375 35.828125 \nQ 18.609375 31.296875 18.609375 23.390625 \nQ 18.609375 15.53125 22.484375 10.953125 \nQ 26.375 6.390625 33.015625 6.390625 \nQ 39.65625 6.390625 43.53125 10.953125 \nQ 47.40625 15.53125 47.40625 23.390625 \nQ 47.40625 31.296875 43.53125 35.828125 \nQ 39.65625 40.375 33.015625 40.375 \nz\nM 52.59375 71.296875 \nL 52.59375 62.3125 \nQ 48.875 64.0625 45.09375 64.984375 \nQ 41.3125 65.921875 37.59375 65.921875 \nQ 27.828125 65.921875 22.671875 59.328125 \nQ 17.53125 52.734375 16.796875 39.40625 \nQ 19.671875 43.65625 24.015625 45.921875 \nQ 28.375 48.1875 33.59375 48.1875 \nQ 44.578125 48.1875 50.953125 41.515625 \nQ 57.328125 34.859375 57.328125 23.390625 \nQ 57.328125 12.15625 50.6875 5.359375 \nQ 44.046875 -1.421875 33.015625 -1.421875 \nQ 20.359375 -1.421875 13.671875 8.265625 \nQ 6.984375 17.96875 6.984375 36.375 \nQ 6.984375 53.65625 15.1875 63.9375 \nQ 23.390625 74.21875 37.203125 74.21875 \nQ 40.921875 74.21875 44.703125 73.484375 \nQ 48.484375 72.75 52.59375 71.296875 \nz\n\" id=\"DejaVuSans-54\"/>\n      </defs>\n      <g transform=\"translate(186.849664 242.738437)scale(0.1 -0.1)\">\n       <use xlink:href=\"#DejaVuSans-54\"/>\n      </g>\n     </g>\n    </g>\n    <g id=\"xtick_4\">\n     <g id=\"line2d_4\">\n      <g>\n       <use style=\"stroke:#000000;stroke-width:0.8;\" x=\"245.369757\" xlink:href=\"#m4b3ffa92d5\" y=\"228.14\"/>\n      </g>\n     </g>\n     <g id=\"text_4\">\n      <!-- 8 -->\n      <defs>\n       <path d=\"M 31.78125 34.625 \nQ 24.75 34.625 20.71875 30.859375 \nQ 16.703125 27.09375 16.703125 20.515625 \nQ 16.703125 13.921875 20.71875 10.15625 \nQ 24.75 6.390625 31.78125 6.390625 \nQ 38.8125 6.390625 42.859375 10.171875 \nQ 46.921875 13.96875 46.921875 20.515625 \nQ 46.921875 27.09375 42.890625 30.859375 \nQ 38.875 34.625 31.78125 34.625 \nz\nM 21.921875 38.8125 \nQ 15.578125 40.375 12.03125 44.71875 \nQ 8.5 49.078125 8.5 55.328125 \nQ 8.5 64.0625 14.71875 69.140625 \nQ 20.953125 74.21875 31.78125 74.21875 \nQ 42.671875 74.21875 48.875 69.140625 \nQ 55.078125 64.0625 55.078125 55.328125 \nQ 55.078125 49.078125 51.53125 44.71875 \nQ 48 40.375 41.703125 38.8125 \nQ 48.828125 37.15625 52.796875 32.3125 \nQ 56.78125 27.484375 56.78125 20.515625 \nQ 56.78125 9.90625 50.3125 4.234375 \nQ 43.84375 -1.421875 31.78125 -1.421875 \nQ 19.734375 -1.421875 13.25 4.234375 \nQ 6.78125 9.90625 6.78125 20.515625 \nQ 6.78125 27.484375 10.78125 32.3125 \nQ 14.796875 37.15625 21.921875 38.8125 \nz\nM 18.3125 54.390625 \nQ 18.3125 48.734375 21.84375 45.5625 \nQ 25.390625 42.390625 31.78125 42.390625 \nQ 38.140625 42.390625 41.71875 45.5625 \nQ 45.3125 48.734375 45.3125 54.390625 \nQ 45.3125 60.0625 41.71875 63.234375 \nQ 38.140625 66.40625 31.78125 66.40625 \nQ 25.390625 66.40625 21.84375 63.234375 \nQ 18.3125 60.0625 18.3125 54.390625 \nz\n\" id=\"DejaVuSans-56\"/>\n      </defs>\n      <g transform=\"translate(242.188507 242.738437)scale(0.1 -0.1)\">\n       <use xlink:href=\"#DejaVuSans-56\"/>\n      </g>\n     </g>\n    </g>\n    <g id=\"xtick_5\">\n     <g id=\"line2d_5\">\n      <g>\n       <use style=\"stroke:#000000;stroke-width:0.8;\" x=\"300.7086\" xlink:href=\"#m4b3ffa92d5\" y=\"228.14\"/>\n      </g>\n     </g>\n     <g id=\"text_5\">\n      <!-- 10 -->\n      <defs>\n       <path d=\"M 12.40625 8.296875 \nL 28.515625 8.296875 \nL 28.515625 63.921875 \nL 10.984375 60.40625 \nL 10.984375 69.390625 \nL 28.421875 72.90625 \nL 38.28125 72.90625 \nL 38.28125 8.296875 \nL 54.390625 8.296875 \nL 54.390625 0 \nL 12.40625 0 \nz\n\" id=\"DejaVuSans-49\"/>\n       <path d=\"M 31.78125 66.40625 \nQ 24.171875 66.40625 20.328125 58.90625 \nQ 16.5 51.421875 16.5 36.375 \nQ 16.5 21.390625 20.328125 13.890625 \nQ 24.171875 6.390625 31.78125 6.390625 \nQ 39.453125 6.390625 43.28125 13.890625 \nQ 47.125 21.390625 47.125 36.375 \nQ 47.125 51.421875 43.28125 58.90625 \nQ 39.453125 66.40625 31.78125 66.40625 \nz\nM 31.78125 74.21875 \nQ 44.046875 74.21875 50.515625 64.515625 \nQ 56.984375 54.828125 56.984375 36.375 \nQ 56.984375 17.96875 50.515625 8.265625 \nQ 44.046875 -1.421875 31.78125 -1.421875 \nQ 19.53125 -1.421875 13.0625 8.265625 \nQ 6.59375 17.96875 6.59375 36.375 \nQ 6.59375 54.828125 13.0625 64.515625 \nQ 19.53125 74.21875 31.78125 74.21875 \nz\n\" id=\"DejaVuSans-48\"/>\n      </defs>\n      <g transform=\"translate(294.3461 242.738437)scale(0.1 -0.1)\">\n       <use xlink:href=\"#DejaVuSans-49\"/>\n       <use x=\"63.623047\" xlink:href=\"#DejaVuSans-48\"/>\n      </g>\n     </g>\n    </g>\n    <g id=\"xtick_6\">\n     <g id=\"line2d_6\">\n      <g>\n       <use style=\"stroke:#000000;stroke-width:0.8;\" x=\"356.047443\" xlink:href=\"#m4b3ffa92d5\" y=\"228.14\"/>\n      </g>\n     </g>\n     <g id=\"text_6\">\n      <!-- 12 -->\n      <g transform=\"translate(349.684943 242.738437)scale(0.1 -0.1)\">\n       <use xlink:href=\"#DejaVuSans-49\"/>\n       <use x=\"63.623047\" xlink:href=\"#DejaVuSans-50\"/>\n      </g>\n     </g>\n    </g>\n   </g>\n   <g id=\"matplotlib.axis_2\">\n    <g id=\"ytick_1\">\n     <g id=\"line2d_7\">\n      <defs>\n       <path d=\"M 0 0 \nL -3.5 0 \n\" id=\"mcd8bd8d66a\" style=\"stroke:#000000;stroke-width:0.8;\"/>\n      </defs>\n      <g>\n       <use style=\"stroke:#000000;stroke-width:0.8;\" x=\"36.465625\" xlink:href=\"#mcd8bd8d66a\" y=\"202.650622\"/>\n      </g>\n     </g>\n     <g id=\"text_7\">\n      <!-- 7.5 -->\n      <defs>\n       <path d=\"M 8.203125 72.90625 \nL 55.078125 72.90625 \nL 55.078125 68.703125 \nL 28.609375 0 \nL 18.3125 0 \nL 43.21875 64.59375 \nL 8.203125 64.59375 \nz\n\" id=\"DejaVuSans-55\"/>\n       <path d=\"M 10.6875 12.40625 \nL 21 12.40625 \nL 21 0 \nL 10.6875 0 \nz\n\" id=\"DejaVuSans-46\"/>\n       <path d=\"M 10.796875 72.90625 \nL 49.515625 72.90625 \nL 49.515625 64.59375 \nL 19.828125 64.59375 \nL 19.828125 46.734375 \nQ 21.96875 47.46875 24.109375 47.828125 \nQ 26.265625 48.1875 28.421875 48.1875 \nQ 40.625 48.1875 47.75 41.5 \nQ 54.890625 34.8125 54.890625 23.390625 \nQ 54.890625 11.625 47.5625 5.09375 \nQ 40.234375 -1.421875 26.90625 -1.421875 \nQ 22.3125 -1.421875 17.546875 -0.640625 \nQ 12.796875 0.140625 7.71875 1.703125 \nL 7.71875 11.625 \nQ 12.109375 9.234375 16.796875 8.0625 \nQ 21.484375 6.890625 26.703125 6.890625 \nQ 35.15625 6.890625 40.078125 11.328125 \nQ 45.015625 15.765625 45.015625 23.390625 \nQ 45.015625 31 40.078125 35.4375 \nQ 35.15625 39.890625 26.703125 39.890625 \nQ 22.75 39.890625 18.8125 39.015625 \nQ 14.890625 38.140625 10.796875 36.28125 \nz\n\" id=\"DejaVuSans-53\"/>\n      </defs>\n      <g transform=\"translate(13.5625 206.449841)scale(0.1 -0.1)\">\n       <use xlink:href=\"#DejaVuSans-55\"/>\n       <use x=\"63.623047\" xlink:href=\"#DejaVuSans-46\"/>\n       <use x=\"95.410156\" xlink:href=\"#DejaVuSans-53\"/>\n      </g>\n     </g>\n    </g>\n    <g id=\"ytick_2\">\n     <g id=\"line2d_8\">\n      <g>\n       <use style=\"stroke:#000000;stroke-width:0.8;\" x=\"36.465625\" xlink:href=\"#mcd8bd8d66a\" y=\"176.641053\"/>\n      </g>\n     </g>\n     <g id=\"text_8\">\n      <!-- 10.0 -->\n      <g transform=\"translate(7.2 180.440271)scale(0.1 -0.1)\">\n       <use xlink:href=\"#DejaVuSans-49\"/>\n       <use x=\"63.623047\" xlink:href=\"#DejaVuSans-48\"/>\n       <use x=\"127.246094\" xlink:href=\"#DejaVuSans-46\"/>\n       <use x=\"159.033203\" xlink:href=\"#DejaVuSans-48\"/>\n      </g>\n     </g>\n    </g>\n    <g id=\"ytick_3\">\n     <g id=\"line2d_9\">\n      <g>\n       <use style=\"stroke:#000000;stroke-width:0.8;\" x=\"36.465625\" xlink:href=\"#mcd8bd8d66a\" y=\"150.631483\"/>\n      </g>\n     </g>\n     <g id=\"text_9\">\n      <!-- 12.5 -->\n      <g transform=\"translate(7.2 154.430702)scale(0.1 -0.1)\">\n       <use xlink:href=\"#DejaVuSans-49\"/>\n       <use x=\"63.623047\" xlink:href=\"#DejaVuSans-50\"/>\n       <use x=\"127.246094\" xlink:href=\"#DejaVuSans-46\"/>\n       <use x=\"159.033203\" xlink:href=\"#DejaVuSans-53\"/>\n      </g>\n     </g>\n    </g>\n    <g id=\"ytick_4\">\n     <g id=\"line2d_10\">\n      <g>\n       <use style=\"stroke:#000000;stroke-width:0.8;\" x=\"36.465625\" xlink:href=\"#mcd8bd8d66a\" y=\"124.621914\"/>\n      </g>\n     </g>\n     <g id=\"text_10\">\n      <!-- 15.0 -->\n      <g transform=\"translate(7.2 128.421133)scale(0.1 -0.1)\">\n       <use xlink:href=\"#DejaVuSans-49\"/>\n       <use x=\"63.623047\" xlink:href=\"#DejaVuSans-53\"/>\n       <use x=\"127.246094\" xlink:href=\"#DejaVuSans-46\"/>\n       <use x=\"159.033203\" xlink:href=\"#DejaVuSans-48\"/>\n      </g>\n     </g>\n    </g>\n    <g id=\"ytick_5\">\n     <g id=\"line2d_11\">\n      <g>\n       <use style=\"stroke:#000000;stroke-width:0.8;\" x=\"36.465625\" xlink:href=\"#mcd8bd8d66a\" y=\"98.612344\"/>\n      </g>\n     </g>\n     <g id=\"text_11\">\n      <!-- 17.5 -->\n      <g transform=\"translate(7.2 102.411563)scale(0.1 -0.1)\">\n       <use xlink:href=\"#DejaVuSans-49\"/>\n       <use x=\"63.623047\" xlink:href=\"#DejaVuSans-55\"/>\n       <use x=\"127.246094\" xlink:href=\"#DejaVuSans-46\"/>\n       <use x=\"159.033203\" xlink:href=\"#DejaVuSans-53\"/>\n      </g>\n     </g>\n    </g>\n    <g id=\"ytick_6\">\n     <g id=\"line2d_12\">\n      <g>\n       <use style=\"stroke:#000000;stroke-width:0.8;\" x=\"36.465625\" xlink:href=\"#mcd8bd8d66a\" y=\"72.602775\"/>\n      </g>\n     </g>\n     <g id=\"text_12\">\n      <!-- 20.0 -->\n      <g transform=\"translate(7.2 76.401994)scale(0.1 -0.1)\">\n       <use xlink:href=\"#DejaVuSans-50\"/>\n       <use x=\"63.623047\" xlink:href=\"#DejaVuSans-48\"/>\n       <use x=\"127.246094\" xlink:href=\"#DejaVuSans-46\"/>\n       <use x=\"159.033203\" xlink:href=\"#DejaVuSans-48\"/>\n      </g>\n     </g>\n    </g>\n    <g id=\"ytick_7\">\n     <g id=\"line2d_13\">\n      <g>\n       <use style=\"stroke:#000000;stroke-width:0.8;\" x=\"36.465625\" xlink:href=\"#mcd8bd8d66a\" y=\"46.593206\"/>\n      </g>\n     </g>\n     <g id=\"text_13\">\n      <!-- 22.5 -->\n      <g transform=\"translate(7.2 50.392424)scale(0.1 -0.1)\">\n       <use xlink:href=\"#DejaVuSans-50\"/>\n       <use x=\"63.623047\" xlink:href=\"#DejaVuSans-50\"/>\n       <use x=\"127.246094\" xlink:href=\"#DejaVuSans-46\"/>\n       <use x=\"159.033203\" xlink:href=\"#DejaVuSans-53\"/>\n      </g>\n     </g>\n    </g>\n    <g id=\"ytick_8\">\n     <g id=\"line2d_14\">\n      <g>\n       <use style=\"stroke:#000000;stroke-width:0.8;\" x=\"36.465625\" xlink:href=\"#mcd8bd8d66a\" y=\"20.583636\"/>\n      </g>\n     </g>\n     <g id=\"text_14\">\n      <!-- 25.0 -->\n      <g transform=\"translate(7.2 24.382855)scale(0.1 -0.1)\">\n       <use xlink:href=\"#DejaVuSans-50\"/>\n       <use x=\"63.623047\" xlink:href=\"#DejaVuSans-53\"/>\n       <use x=\"127.246094\" xlink:href=\"#DejaVuSans-46\"/>\n       <use x=\"159.033203\" xlink:href=\"#DejaVuSans-48\"/>\n      </g>\n     </g>\n    </g>\n   </g>\n   <g id=\"line2d_15\">\n    <path clip-path=\"url(#pe75cc749c0)\" d=\"M 51.683807 218.256364 \nL 79.353228 155.833397 \nL 107.02265 103.814258 \nL 134.692071 62.198947 \nL 162.361493 41.391292 \nL 190.030914 20.583636 \nL 217.700336 20.583636 \nL 245.369757 41.391292 \nL 273.039179 62.198947 \nL 300.7086 103.814258 \nL 328.378022 155.833397 \nL 356.047443 218.256364 \n\" style=\"fill:none;stroke:#1f77b4;stroke-linecap:square;stroke-width:1.5;\"/>\n    <defs>\n     <path d=\"M 0 3 \nC 0.795609 3 1.55874 2.683901 2.12132 2.12132 \nC 2.683901 1.55874 3 0.795609 3 0 \nC 3 -0.795609 2.683901 -1.55874 2.12132 -2.12132 \nC 1.55874 -2.683901 0.795609 -3 0 -3 \nC -0.795609 -3 -1.55874 -2.683901 -2.12132 -2.12132 \nC -2.683901 -1.55874 -3 -0.795609 -3 0 \nC -3 0.795609 -2.683901 1.55874 -2.12132 2.12132 \nC -1.55874 2.683901 -0.795609 3 0 3 \nz\n\" id=\"m3067113585\" style=\"stroke:#1f77b4;\"/>\n    </defs>\n    <g clip-path=\"url(#pe75cc749c0)\">\n     <use style=\"fill:#1f77b4;stroke:#1f77b4;\" x=\"51.683807\" xlink:href=\"#m3067113585\" y=\"218.256364\"/>\n     <use style=\"fill:#1f77b4;stroke:#1f77b4;\" x=\"79.353228\" xlink:href=\"#m3067113585\" y=\"155.833397\"/>\n     <use style=\"fill:#1f77b4;stroke:#1f77b4;\" x=\"107.02265\" xlink:href=\"#m3067113585\" y=\"103.814258\"/>\n     <use style=\"fill:#1f77b4;stroke:#1f77b4;\" x=\"134.692071\" xlink:href=\"#m3067113585\" y=\"62.198947\"/>\n     <use style=\"fill:#1f77b4;stroke:#1f77b4;\" x=\"162.361493\" xlink:href=\"#m3067113585\" y=\"41.391292\"/>\n     <use style=\"fill:#1f77b4;stroke:#1f77b4;\" x=\"190.030914\" xlink:href=\"#m3067113585\" y=\"20.583636\"/>\n     <use style=\"fill:#1f77b4;stroke:#1f77b4;\" x=\"217.700336\" xlink:href=\"#m3067113585\" y=\"20.583636\"/>\n     <use style=\"fill:#1f77b4;stroke:#1f77b4;\" x=\"245.369757\" xlink:href=\"#m3067113585\" y=\"41.391292\"/>\n     <use style=\"fill:#1f77b4;stroke:#1f77b4;\" x=\"273.039179\" xlink:href=\"#m3067113585\" y=\"62.198947\"/>\n     <use style=\"fill:#1f77b4;stroke:#1f77b4;\" x=\"300.7086\" xlink:href=\"#m3067113585\" y=\"103.814258\"/>\n     <use style=\"fill:#1f77b4;stroke:#1f77b4;\" x=\"328.378022\" xlink:href=\"#m3067113585\" y=\"155.833397\"/>\n     <use style=\"fill:#1f77b4;stroke:#1f77b4;\" x=\"356.047443\" xlink:href=\"#m3067113585\" y=\"218.256364\"/>\n    </g>\n   </g>\n   <g id=\"patch_3\">\n    <path d=\"M 36.465625 228.14 \nL 36.465625 10.7 \n\" style=\"fill:none;stroke:#000000;stroke-linecap:square;stroke-linejoin:miter;stroke-width:0.8;\"/>\n   </g>\n   <g id=\"patch_4\">\n    <path d=\"M 371.265625 228.14 \nL 371.265625 10.7 \n\" style=\"fill:none;stroke:#000000;stroke-linecap:square;stroke-linejoin:miter;stroke-width:0.8;\"/>\n   </g>\n   <g id=\"patch_5\">\n    <path d=\"M 36.465625 228.14 \nL 371.265625 228.14 \n\" style=\"fill:none;stroke:#000000;stroke-linecap:square;stroke-linejoin:miter;stroke-width:0.8;\"/>\n   </g>\n   <g id=\"patch_6\">\n    <path d=\"M 36.465625 10.7 \nL 371.265625 10.7 \n\" style=\"fill:none;stroke:#000000;stroke-linecap:square;stroke-linejoin:miter;stroke-width:0.8;\"/>\n   </g>\n  </g>\n </g>\n <defs>\n  <clipPath id=\"pe75cc749c0\">\n   <rect height=\"217.44\" width=\"334.8\" x=\"36.465625\" y=\"10.7\"/>\n  </clipPath>\n </defs>\n</svg>\n",
      "image/png": "[encoded data removed]"
     },
     "metadata": {
      "needs_background": "light"
     }
    },
    {
     "output_type": "stream",
     "name": "stdout",
     "text": "Row 1: sc 6 into a magic ring (6)\nRow 2: inc 6 (12)\nRow 3: inc, sc 2, inc, sc, inc, sc 2, inc, sc, inc, sc 1 (17)\nRow 4: sc 2, [inc, sc 3] 3x, inc, sc 2 (21)\nRow 5: inc, sc 10, inc, sc 9 (23)\nRow 6: sc 5, inc, sc 10, inc, sc 6 (25)\nRow 7: sc 25 (25)\nRow 8: sc 5, dec, sc 10, dec, sc 6 (23)\nRow 9: dec, sc 10, dec, sc 9 (21)\nRow 10: sc, [dec, sc 3] 4x (17)\nRow 11: dec, sc 2, dec, sc, dec, sc 2, dec, sc, dec, sc 1 (12)\nRow 12: dec 6 (6)\n"
    }
   ],
   "source": [
    "# number of rows\n",
    "nbrRows = 12\n",
    "# starting number of stiches\n",
    "firstRowStiches = 6\n",
    "\n",
    "diameter = nbrRows + 1\n",
    "firstRowCircumf = math.sin(1 * math.pi / (diameter))\n",
    "stichesPerUnit = firstRowStiches / firstRowCircumf\n",
    "\n",
    "\n",
    "rows = []\n",
    "cols = []\n",
    "for i in range(nbrRows):\n",
    "    h = i + 1\n",
    "    #  a=sqrt(h(2R-h))\n",
    "    # circumference = 2 * math.pi * math.sqrt(h*(2*radius-h))\n",
    "    theta = h * math.pi / (diameter)\n",
    "    circumference = math.sin(theta)\n",
    "    nbrStiches = round(circumference * stichesPerUnit)\n",
    "    # print(str(h) + \" \" + str(nbrStiches))\n",
    "    rows.append(nbrStiches)\n",
    "    cols.append(h)\n",
    "\n",
    "# fig = plt.figure()\n",
    "# plt.plot(cols, rows, marker=\"o\")\n",
    "# plt.show()\n",
    "\n",
    "for i in range(nbrRows):\n",
    "    currentRow = cols[i]\n",
    "    currentRowStitchCount = rows[i]\n",
    "    if i is 0:\n",
    "        print(f'Row {currentRow}: sc {currentRowStitchCount} into a magic ring ({currentRowStitchCount})')\n",
    "    else:\n",
    "        prevRowStitchCount = rows[i-1]\n",
    "        diffInCount = currentRowStitchCount - prevRowStitchCount\n",
    "\n",
    "        diffType = \"inc\" if diffInCount > 0 else \"dec\"\n",
    "        scPerDiff = 1 if diffType == \"inc\" else 2\n",
    "        numberOfDiffs = abs(diffInCount)\n",
    "        numberOfSc = prevRowStitchCount - (numberOfDiffs * scPerDiff)\n",
    "\n",
    "        # print(f'Row {currentRow}: {numberOfDiffs} {diffType} {numberOfSc} sc ({currentRowStitchCount})')\n",
    "\n",
    "        lcm = (numberOfDiffs or 1) * (numberOfSc or 1)\n",
    "        # print(lcm)\n",
    "        offset = 0\n",
    "        if (currentRow % 2 == 0 and numberOfDiffs):\n",
    "            offset = round(prevRowStitchCount / numberOfDiffs / 2)\n",
    "\n",
    "        # print(f'currentRow {currentRow}, offset {offset}')\n",
    "        allStitches = []\n",
    "        for j in range(lcm):\n",
    "            indexToUse = j\n",
    "            if offset:\n",
    "                indexToUse = j + offset * numberOfDiffs\n",
    "            if numberOfDiffs and indexToUse % (numberOfSc or 1) == 0:\n",
    "                allStitches.append(diffType)\n",
    "            if numberOfSc and indexToUse % (numberOfDiffs or 1) == 0:\n",
    "                allStitches.append(\"sc\")\n",
    "        # print(allStitches)\n",
    "\n",
    "        groupedStitches = []\n",
    "        currentCount = 0\n",
    "        currentType = ''\n",
    "        for s in allStitches:\n",
    "            if (currentCount and s != currentType):\n",
    "                count = f' {currentCount}' if currentCount > 1 else ''\n",
    "                groupedStitches.append(f'{currentType}{count}')\n",
    "                currentCount = 0\n",
    "            currentType = s\n",
    "            currentCount +=1\n",
    "        groupedStitches.append(f'{currentType} {currentCount}')\n",
    "        # print(groupedStitches)\n",
    "\n",
    "        doubleGroupedStitches = []\n",
    "        buffer = []\n",
    "        for g in groupedStitches:\n",
    "            buffer.append(g)\n",
    "            if g.startswith('sc'):\n",
    "                doubleGroupedStitches.append(buffer)\n",
    "                buffer = []\n",
    "        if (len(buffer)):\n",
    "            doubleGroupedStitches.append(buffer)\n",
    "\n",
    "        # print(doubleGroupedStitches)\n",
    "\n",
    "        finalGroups = []\n",
    "        previousGroup = doubleGroupedStitches[0]\n",
    "        groupCount = 0\n",
    "        for d in doubleGroupedStitches:\n",
    "            if previousGroup and d != previousGroup:\n",
    "                finalGroups.append([previousGroup, groupCount])\n",
    "                previousGroup = d\n",
    "                groupCount = 0\n",
    "            groupCount +=1\n",
    "        finalGroups.append([previousGroup, groupCount])\n",
    "        # print(finalGroups)\n",
    "\n",
    "        # final printout\n",
    "        instructionStr = ''\n",
    "        for group in finalGroups:\n",
    "            if group[1] == 1:\n",
    "                instructionStr += \", \".join(group[0])\n",
    "            else:\n",
    "                instructionStr += f'[{\", \".join(group[0])}]'\n",
    "                instructionStr += f' {group[1]}x'\n",
    "            if (group != finalGroups[-1]):\n",
    "                instructionStr += ', '   \n",
    "\n",
    "        print(f'Row {currentRow}: {instructionStr} ({currentRowStitchCount})')\n"
   ]
  },
  {
   "cell_type": "code",
   "execution_count": 205,
   "metadata": {},
   "outputs": [
    {
     "output_type": "error",
     "ename": "SyntaxError",
     "evalue": "invalid syntax (<ipython-input-205-8a6d63af1264>, line 1)",
     "traceback": [
      "\u001b[0;36m  File \u001b[0;32m\"<ipython-input-205-8a6d63af1264>\"\u001b[0;36m, line \u001b[0;32m1\u001b[0m\n\u001b[0;31m    Extra small:\u001b[0m\n\u001b[0m              ^\u001b[0m\n\u001b[0;31mSyntaxError\u001b[0m\u001b[0;31m:\u001b[0m invalid syntax\n"
     ]
    }
   ],
   "source": [
    "Extra small:\n",
    "\n",
    "Row 1: sc 5 into a magic ring (5)\n",
    "Row 2: inc, sc, inc 3 (9)\n",
    "Row 3: [inc, sc 2] 3x (12)\n",
    "Row 4: sc 5, inc, sc 6 (13)\n",
    "Row 5: dec, sc 11 (12)\n",
    "Row 6: [dec, sc 2] 3x (9)\n",
    "Row 7: dec, sc, dec 3 (5)"
   ]
  },
  {
   "cell_type": "code",
   "execution_count": null,
   "metadata": {},
   "outputs": [],
   "source": [
    "Small\n",
    "\n",
    "Row 1: sc 5 into a magic ring (5)\n",
    "Row 2: inc 5 (10)\n",
    "Row 3: inc, sc 3, [inc, sc 2] 2x (13)\n",
    "Row 4: sc 3, inc, sc 5, inc, sc 3 (15)\n",
    "Row 5: inc, sc 14 (16)\n",
    "Row 6: sc 6, dec, sc 8 (15)\n",
    "Row 7: dec, sc 6, dec, sc 5 (13)\n",
    "Row 8: sc, [dec, sc 2] 3x (10)\n",
    "Row 9: dec 5 (5)"
   ]
  },
  {
   "cell_type": "code",
   "execution_count": null,
   "metadata": {},
   "outputs": [],
   "source": [
    "Medium\n",
    "\n",
    "Row 1: sc 6 into a magic ring (6)\n",
    "Row 2: inc 6 (12)\n",
    "Row 3: [inc, sc 2] 4x (16)\n",
    "Row 4: sc 2, [inc, sc 4] 2x, inc, sc 3 (19)\n",
    "Row 5: inc, sc 9, inc, sc 8 (21)\n",
    "Row 6: sc 21 (21)\n",
    "Row 7: dec, sc 9, dec, sc 8 (19)\n",
    "Row 8: sc 2, [dec, sc 4] 2x, dec, sc 3 (16)\n",
    "Row 9: [dec, sc 2] 4x (12)\n",
    "Row 10: dec 6 (6)"
   ]
  },
  {
   "cell_type": "code",
   "execution_count": null,
   "metadata": {},
   "outputs": [],
   "source": [
    "Large\n",
    "\n",
    "Row 1: sc 6 into a magic ring (6)\n",
    "Row 2: inc 6 (12)\n",
    "Row 3: inc, sc 2, inc, sc, inc, sc 2, inc, sc, inc, sc 1 (17)\n",
    "Row 4: sc 2, [inc, sc 3] 3x, inc, sc 2 (21)\n",
    "Row 5: inc, sc 10, inc, sc 9 (23)\n",
    "Row 6: sc 5, inc, sc 10, inc, sc 6 (25)\n",
    "Row 7: sc 25 (25)\n",
    "Row 8: sc 5, dec, sc 10, dec, sc 6 (23)\n",
    "Row 9: dec, sc 10, dec, sc 9 (21)\n",
    "Row 10: sc, [dec, sc 3] 4x (17)\n",
    "Row 11: dec, sc 2, dec, sc, dec, sc 2, dec, sc, dec, sc 1 (12)\n",
    "Row 12: dec 6 (6)"
   ]
  }
 ]
}